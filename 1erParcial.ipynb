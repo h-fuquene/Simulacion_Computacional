{
  "nbformat": 4,
  "nbformat_minor": 0,
  "metadata": {
    "colab": {
      "name": "1erParcial.ipynb",
      "provenance": [],
      "collapsed_sections": []
    },
    "kernelspec": {
      "name": "python3",
      "display_name": "Python 3"
    }
  },
  "cells": [
    {
      "cell_type": "markdown",
      "metadata": {
        "id": "8ZmASnzE4maa",
        "colab_type": "text"
      },
      "source": [
        "## 1er Parcial - Simulación Computacional 2020-I"
      ]
    },
    {
      "cell_type": "markdown",
      "metadata": {
        "id": "SzFIvgaS_4qX",
        "colab_type": "text"
      },
      "source": [
        "## 1.  (1.0 punto)\n",
        "Para los siguientes generadores congruenciales mixtos encuentre $u_1,...,u_{100}$ y el tamaño del ciclo (si lo tiene)\n",
        "\n",
        "**a)** $x_0=93, x_n = (14x_{n-1}+9) \\mod 127$\n"
      ]
    },
    {
      "cell_type": "code",
      "metadata": {
        "id": "Iwv2_dxlA4au",
        "colab_type": "code",
        "colab": {
          "base_uri": "https://localhost:8080/",
          "height": 90
        },
        "outputId": "e00e9ca5-00aa-45f8-bb1a-c6f7a132a064"
      },
      "source": [
        "from datetime import datetime\n",
        "import random\n",
        "\n",
        "def metodo_congruencial_mixto(cantidad=1, x0=None, a=None, b=None, mod=None):\n",
        "  pseudoaletorios = []\n",
        "  if x0 !='val':\n",
        "      x0\n",
        "  if a != 'val':\n",
        "      a\n",
        "  if b !='val':\n",
        "      b\n",
        "  if mod !='val':\n",
        "      mod \n",
        "  actual=x0\n",
        "  for i in range(0,cantidad):\n",
        "      xn=(a*actual+b)%mod\n",
        "      un=xn/mod\n",
        "      pseudoaletorios.append(un)\n",
        "      actual=xn\n",
        "  return pseudoaletorios\n",
        "def calcular_periodo(lista_aleatorios):\n",
        "    periodo=0\n",
        "    for i in range(0, len(lista_aleatorios)):\n",
        "      for j in range(i+1, len(lista_aleatorios)):\n",
        "          if lista_aleatorios[i]==lista_aleatorios[j]:\n",
        "              periodo=j-i\n",
        "              break\n",
        "      if periodo !=0:\n",
        "          break\n",
        "\n",
        "    return periodo\n",
        "cantidad=100\n",
        "x0=93\n",
        "a=14\n",
        "b=9\n",
        "mod=127\n",
        "resultado_congruencial_mixto = metodo_congruencial_mixto(cantidad,x0,a,b,mod)\n",
        "print(\"Resultado Congruencial Mixto con cantidad={}, xo={}, a={}, b={}, mod={}\".format(cantidad,x0,a,b,mod))\n",
        "print(resultado_congruencial_mixto)\n",
        "print(\"El periodo es: {}\".format(calcular_periodo(resultado_congruencial_mixto)))"
      ],
      "execution_count": 16,
      "outputs": [
        {
          "output_type": "stream",
          "text": [
            "Resultado Congruencial Mixto con cantidad=100, xo=93, a=14, b=9, mod=127\n",
            "[0.3228346456692913, 0.5905511811023622, 0.33858267716535434, 0.8110236220472441, 0.4251968503937008, 0.023622047244094488, 0.4015748031496063, 0.6929133858267716, 0.7716535433070866, 0.8740157480314961, 0.30708661417322836, 0.3700787401574803, 0.25196850393700787, 0.5984251968503937, 0.44881889763779526, 0.3543307086614173, 0.031496062992125984, 0.5118110236220472, 0.23622047244094488, 0.3779527559055118, 0.36220472440944884, 0.14173228346456693, 0.05511811023622047, 0.84251968503937, 0.8661417322834646, 0.1968503937007874, 0.8267716535433071, 0.6456692913385826, 0.11023622047244094, 0.6141732283464567, 0.6692913385826772, 0.4409448818897638, 0.2440944881889764, 0.4881889763779528, 0.905511811023622, 0.7480314960629921, 0.5433070866141733, 0.6771653543307087, 0.5511811023622047, 0.7874015748031497, 0.09448818897637795, 0.3937007874015748, 0.5826771653543307, 0.2283464566929134, 0.2677165354330709, 0.8188976377952756, 0.5354330708661418, 0.5669291338582677, 0.007874015748031496, 0.18110236220472442, 0.6062992125984252, 0.5590551181102362, 0.8976377952755905, 0.6377952755905512, 0.0, 0.07086614173228346, 0.06299212598425197, 0.952755905511811, 0.4094488188976378, 0.8031496062992126, 0.31496062992125984, 0.48031496062992124, 0.7952755905511811, 0.2047244094488189, 0.937007874015748, 0.1889763779527559, 0.7165354330708661, 0.10236220472440945, 0.5039370078740157, 0.12598425196850394, 0.8346456692913385, 0.7559055118110236, 0.6535433070866141, 0.2204724409448819, 0.15748031496062992, 0.2755905511811024, 0.9291338582677166, 0.07874015748031496, 0.1732283464566929, 0.49606299212598426, 0.015748031496062992, 0.29133858267716534, 0.14960629921259844, 0.16535433070866143, 0.3858267716535433, 0.47244094488188976, 0.6850393700787402, 0.6614173228346457, 0.33070866141732286, 0.7007874015748031, 0.8818897637795275, 0.41732283464566927, 0.9133858267716536, 0.8582677165354331, 0.08661417322834646, 0.28346456692913385, 0.03937007874015748, 0.6220472440944882, 0.7795275590551181, 0.984251968503937]\n",
            "El periodo es: 0\n"
          ],
          "name": "stdout"
        }
      ]
    },
    {
      "cell_type": "markdown",
      "metadata": {
        "id": "YJ9uMhemA48M",
        "colab_type": "text"
      },
      "source": [
        "**b)** $x_0=123, x_n = (191x_{n-1}) \\mod 3173$"
      ]
    },
    {
      "cell_type": "code",
      "metadata": {
        "id": "MQQMwNdRA9hX",
        "colab_type": "code",
        "colab": {
          "base_uri": "https://localhost:8080/",
          "height": 90
        },
        "outputId": "b73bc1ff-f86c-4ebb-82e0-31f5f119b6b6"
      },
      "source": [
        "cantidad=100\n",
        "x0=123\n",
        "a=191\n",
        "b=0\n",
        "mod=3173\n",
        "resultado_congruencial_mixto = metodo_congruencial_mixto(cantidad,x0,a,b,mod)\n",
        "print(\"Resultado Congruencial Mixto con cantidad={}, xo={}, a={}, b={}, mod={}\".format(cantidad,x0,a,b,mod))\n",
        "print(resultado_congruencial_mixto)\n",
        "print(\"El periodo es: {}\".format(calcular_periodo(resultado_congruencial_mixto)))"
      ],
      "execution_count": 17,
      "outputs": [
        {
          "output_type": "stream",
          "text": [
            "Resultado Congruencial Mixto con cantidad=100, xo=123, a=191, b=0, mod=3173\n",
            "[0.40403403718878034, 0.1705011030570438, 0.5657106838953672, 0.05074062401512764, 0.6914591868893791, 0.06870469587141506, 0.12259691144027735, 0.41601008509297194, 0.4579262527576426, 0.4639142767097384, 0.6076268515600378, 0.05672864796722345, 0.8351717617396786, 0.5178064922786006, 0.9010400252127324, 0.0986448156318941, 0.8411597856917743, 0.6615190671289001, 0.3501418216199181, 0.8770879294043492, 0.5237945162306965, 0.04475260006303183, 0.5477466120390797, 0.6196028994642294, 0.3441537976678222, 0.7333753545540498, 0.07469271982351088, 0.2663094862905767, 0.8651118815001576, 0.2363693665300977, 0.14654900724866057, 0.9908603844941696, 0.2543334383863851, 0.5776867317995588, 0.3381657737157264, 0.5896627797037504, 0.6255909234163253, 0.48786637251812165, 0.18247715096123543, 0.853135833595966, 0.9489442168294989, 0.2483454144342893, 0.4339741569492594, 0.8890639773085408, 0.8112196659312954, 0.9429561928774031, 0.10463283958398992, 0.9848723605420737, 0.11062086353608572, 0.12858493539237315, 0.5597226599432713, 0.9070280491648283, 0.2423573904821935, 0.29026158209895997, 0.4399621809013552, 0.03277655215884021, 0.2603214623384809, 0.7213993066498582, 0.787267570122912, 0.3681058934762055, 0.3082256539552474, 0.8710999054522534, 0.3800819413803971, 0.5956508036558462, 0.7693034982666247, 0.9369681689253073, 0.9609202647336905, 0.5357705641348881, 0.3321777497636306, 0.445950204853451, 0.17648912700913963, 0.7094232587456666, 0.49984242042231325, 0.46990230066183425, 0.7513394264103372, 0.505830444374409, 0.6136148755121337, 0.20044122281752286, 0.28427355814686417, 0.29624960605105577, 0.5836747557516546, 0.48187834856602585, 0.03876457611093602, 0.40403403718878034, 0.1705011030570438, 0.5657106838953672, 0.05074062401512764, 0.6914591868893791, 0.06870469587141506, 0.12259691144027735, 0.41601008509297194, 0.4579262527576426, 0.4639142767097384, 0.6076268515600378, 0.05672864796722345, 0.8351717617396786, 0.5178064922786006, 0.9010400252127324, 0.0986448156318941, 0.8411597856917743]\n",
            "El periodo es: 83\n"
          ],
          "name": "stdout"
        }
      ]
    },
    {
      "cell_type": "markdown",
      "metadata": {
        "id": "t7BKvhEPA91k",
        "colab_type": "text"
      },
      "source": [
        "**c)** $x_0=7, x_n = (5x_{n-1}+3) \\mod 33$"
      ]
    },
    {
      "cell_type": "code",
      "metadata": {
        "id": "j4tMo8eFA-fo",
        "colab_type": "code",
        "colab": {
          "base_uri": "https://localhost:8080/",
          "height": 90
        },
        "outputId": "cc4f6381-79a6-417b-c05c-d720e4790401"
      },
      "source": [
        "cantidad=100\n",
        "x0=7\n",
        "a=5\n",
        "b=3\n",
        "mod=33\n",
        "resultado_congruencial_mixto = metodo_congruencial_mixto(cantidad,x0,a,b,mod)\n",
        "print(\"Resultado Congruencial Mixto con cantidad={}, xo={}, a={}, b={}, mod={}\".format(cantidad,x0,a,b,mod))\n",
        "print(resultado_congruencial_mixto)\n",
        "print(\"El periodo es: {}\".format(calcular_periodo(resultado_congruencial_mixto)))"
      ],
      "execution_count": 18,
      "outputs": [
        {
          "output_type": "stream",
          "text": [
            "Resultado Congruencial Mixto con cantidad=100, xo=7, a=5, b=3, mod=33\n",
            "[0.15151515151515152, 0.8484848484848485, 0.3333333333333333, 0.7575757575757576, 0.8787878787878788, 0.48484848484848486, 0.5151515151515151, 0.6666666666666666, 0.42424242424242425, 0.21212121212121213, 0.15151515151515152, 0.8484848484848485, 0.3333333333333333, 0.7575757575757576, 0.8787878787878788, 0.48484848484848486, 0.5151515151515151, 0.6666666666666666, 0.42424242424242425, 0.21212121212121213, 0.15151515151515152, 0.8484848484848485, 0.3333333333333333, 0.7575757575757576, 0.8787878787878788, 0.48484848484848486, 0.5151515151515151, 0.6666666666666666, 0.42424242424242425, 0.21212121212121213, 0.15151515151515152, 0.8484848484848485, 0.3333333333333333, 0.7575757575757576, 0.8787878787878788, 0.48484848484848486, 0.5151515151515151, 0.6666666666666666, 0.42424242424242425, 0.21212121212121213, 0.15151515151515152, 0.8484848484848485, 0.3333333333333333, 0.7575757575757576, 0.8787878787878788, 0.48484848484848486, 0.5151515151515151, 0.6666666666666666, 0.42424242424242425, 0.21212121212121213, 0.15151515151515152, 0.8484848484848485, 0.3333333333333333, 0.7575757575757576, 0.8787878787878788, 0.48484848484848486, 0.5151515151515151, 0.6666666666666666, 0.42424242424242425, 0.21212121212121213, 0.15151515151515152, 0.8484848484848485, 0.3333333333333333, 0.7575757575757576, 0.8787878787878788, 0.48484848484848486, 0.5151515151515151, 0.6666666666666666, 0.42424242424242425, 0.21212121212121213, 0.15151515151515152, 0.8484848484848485, 0.3333333333333333, 0.7575757575757576, 0.8787878787878788, 0.48484848484848486, 0.5151515151515151, 0.6666666666666666, 0.42424242424242425, 0.21212121212121213, 0.15151515151515152, 0.8484848484848485, 0.3333333333333333, 0.7575757575757576, 0.8787878787878788, 0.48484848484848486, 0.5151515151515151, 0.6666666666666666, 0.42424242424242425, 0.21212121212121213, 0.15151515151515152, 0.8484848484848485, 0.3333333333333333, 0.7575757575757576, 0.8787878787878788, 0.48484848484848486, 0.5151515151515151, 0.6666666666666666, 0.42424242424242425, 0.21212121212121213]\n",
            "El periodo es: 10\n"
          ],
          "name": "stdout"
        }
      ]
    },
    {
      "cell_type": "markdown",
      "metadata": {
        "id": "EmgsDNW85jnA",
        "colab_type": "text"
      },
      "source": [
        "## 2.  (1.0 punto)\n",
        "Calcule el estadístico $\\chi^2$ para los siguientes generadores congruenciales mixtos a partir de la generación de $1000$ los valores pseudoaleatorios uniformes de $U(0,1)$: $u_1,...,u_{1000}$, para un $k=101$.\n",
        "\n",
        "**a)** $x_0=1791, x_n = (65539x_{n-1}) \\mod {2^{31}}$\n",
        "\n"
      ]
    },
    {
      "cell_type": "code",
      "metadata": {
        "id": "BDe4A3eOTgoE",
        "colab_type": "code",
        "colab": {
          "base_uri": "https://localhost:8080/",
          "height": 300
        },
        "outputId": "01eb52d4-af94-408e-bfa9-0185f5f671c1"
      },
      "source": [
        "from scipy import stats\n",
        "import math\n",
        "\n",
        "N = 1000\n",
        "\n",
        "a = 65539.0\n",
        "b = 0.0\n",
        "m = math.pow(2,31)\n",
        "x0 = 1791.0\n",
        "\n",
        "[I,X,U] = genranN(a,b,m,x0,N)\n",
        "\n",
        "k=101\n",
        "count, bins, ignored = plt.hist(U, k)\n",
        "plt.plot(bins, np.ones_like(bins)*(N/k), linewidth=2, color='r')\n",
        "plt.show()\n",
        "\n",
        "chiest=0\n",
        "for i in range(0,k):\n",
        "    chiest=chiest+((count[i]-(N/k))**2)/(N/k)\n",
        "print(\"Estadístico chi2 = \"+str(chiest))\n",
        "\n",
        "chisq, pvalue = stats.chisquare(count, f_exp=np.ones_like(count)*(N/k))\n",
        "print(chisq)"
      ],
      "execution_count": 49,
      "outputs": [
        {
          "output_type": "display_data",
          "data": {
            "image/png": "[encoded data removed]",
            "text/plain": [
              "<Figure size 432x288 with 1 Axes>"
            ]
          },
          "metadata": {
            "tags": [],
            "needs_background": "light"
          }
        },
        {
          "output_type": "stream",
          "text": [
            "Estadístico chi2 = 97.66799999999996\n",
            "97.668\n"
          ],
          "name": "stdout"
        }
      ]
    },
    {
      "cell_type": "markdown",
      "metadata": {
        "id": "hFkasb9JThNF",
        "colab_type": "text"
      },
      "source": [
        "**b)** $x_0=6773, x_n = (75x_{n-1}) \\mod {2^{16} + 1}$"
      ]
    },
    {
      "cell_type": "code",
      "metadata": {
        "id": "1aT02saFTiwK",
        "colab_type": "code",
        "colab": {
          "base_uri": "https://localhost:8080/",
          "height": 300
        },
        "outputId": "9856dfb0-afc1-46a7-9978-a8341c964c55"
      },
      "source": [
        "N = 1000\n",
        "\n",
        "a = 75.0\n",
        "b = 0.0\n",
        "m = math.pow(2, 16)+1\n",
        "x0 = 6773.0\n",
        "\n",
        "[I,X,U] = genranN(a,b,m,x0,N)\n",
        "\n",
        "k=101\n",
        "count, bins, ignored = plt.hist(U, k)\n",
        "plt.plot(bins, np.ones_like(bins)*(N/k), linewidth=2, color='r')\n",
        "plt.show()\n",
        "\n",
        "chiest=0\n",
        "for i in range(0,k):\n",
        "    chiest = chiest + ((count[i]-(N/k))**2)/(N/k)\n",
        "print(\"Estadístico chi2 = \"+str(chiest))\n",
        "\n",
        "chisq, pvalue = stats.chisquare(count, f_exp=np.ones_like(count)*(N/k))\n",
        "print(chisq)"
      ],
      "execution_count": 50,
      "outputs": [
        {
          "output_type": "display_data",
          "data": {
            "image/png": "[encoded data removed]",
            "text/plain": [
              "<Figure size 432x288 with 1 Axes>"
            ]
          },
          "metadata": {
            "tags": [],
            "needs_background": "light"
          }
        },
        {
          "output_type": "stream",
          "text": [
            "Estadístico chi2 = 87.56800000000001\n",
            "87.568\n"
          ],
          "name": "stdout"
        }
      ]
    },
    {
      "cell_type": "markdown",
      "metadata": {
        "id": "Wxzu0PlKTjE8",
        "colab_type": "text"
      },
      "source": [
        "**c)** $x_0=179, x_n = (5x_{n-1}+7) \\mod 200$"
      ]
    },
    {
      "cell_type": "code",
      "metadata": {
        "id": "MUDytp0cTlBa",
        "colab_type": "code",
        "colab": {
          "base_uri": "https://localhost:8080/",
          "height": 300
        },
        "outputId": "8f2d7841-299d-4a04-c837-b9ccda51ba0a"
      },
      "source": [
        "N = 1000\n",
        "\n",
        "a = 5.0\n",
        "b = 7.0\n",
        "m = 200\n",
        "x0 = 179.0\n",
        "\n",
        "[I,X,U] = genranN(a,b,m,x0,N)\n",
        "\n",
        "k=101\n",
        "count, bins, ignored = plt.hist(U, k)\n",
        "plt.plot(bins, np.ones_like(bins)*(N/k), linewidth=2, color='r')\n",
        "plt.show()\n",
        "\n",
        "chiest=0\n",
        "for i in range(0,k):\n",
        "    chiest = chiest + ((count[i]-(N/k))**2)/(N/k)\n",
        "print(\"Estadístico chi2 = \"+str(chiest))\n",
        "\n",
        "chisq, pvalue = stats.chisquare(count, f_exp=np.ones_like(count)*(N/k))\n",
        "print(chisq)"
      ],
      "execution_count": 51,
      "outputs": [
        {
          "output_type": "display_data",
          "data": {
            "image/png": "[encoded data removed]",
            "text/plain": [
              "<Figure size 432x288 with 1 Axes>"
            ]
          },
          "metadata": {
            "tags": [],
            "needs_background": "light"
          }
        },
        {
          "output_type": "stream",
          "text": [
            "Estadístico chi2 = 11599.951999999974\n",
            "11599.952000000001\n"
          ],
          "name": "stdout"
        }
      ]
    },
    {
      "cell_type": "markdown",
      "metadata": {
        "id": "TCRSM7MW6dM-",
        "colab_type": "text"
      },
      "source": [
        "## 3.  (1.0 punto)\n",
        "Implemente un sistema de cola simple de clientes atendidos por un cajero de un banco, similar al ejemplo de simulación Ad Hoc del Taller 0 o el punto 10 del Taller 1, generando las variables aleatorias discretas tanto del número de minutos entre las llegadas de un cliente y otro al banco ($X$), así como del numero de minutos que le toma al cajero atender un cliente ($Y$) para un total de **200 clientes**, donde: <br><br>\n",
        "$X$ es una distribución de Poisson con $\\lambda = 10$<br>\n",
        "$Y$ es una distribución de probabilidad discreta así:<br>\n",
        "$Y = [1, 2, 3, 4, 5, 6, 7, 8, 9, 10, 11, 12, 13, 14, 15]$<br>\n",
        "$p(Y) = [0.01, 0.02, 0.02, 0.02, 0.02, 0.025, 0.03, 0.05, 0.08, 0.09, 0.11, 0.15, 0.2, 0.125, 0.05]$<br><br>\n",
        "\n",
        "Calcular:<br>\n",
        "**a)** Tiempo promedio en el sistema<br>\n",
        "**b)** Porcentaje de tiempo libre del servidor<br>\n",
        "**c)** Promedio de tiempo de espera por cliente<br>\n",
        "**d)** Fracción de clientes que estuvieron esperando<br>\n",
        "**e)** Promedio de tiempo de espera de los clientes que esperaron en cola<br>"
      ]
    },
    {
      "cell_type": "code",
      "metadata": {
        "id": "4IOxlexH4d5V",
        "colab_type": "code",
        "colab": {}
      },
      "source": [
        "import numpy as np\n",
        "import pandas as pd\n",
        "import time\n",
        "from datetime import datetime\n",
        "import random\n",
        "import matplotlib.pyplot as plt\n",
        "\n",
        "pd.options.mode.chained_assignment = None \n",
        "\n",
        "def genran(a,b,m,xant):\n",
        "    xsig = (a*xant + b) % m\n",
        "    usig = xsig / m\n",
        "    return [xsig,usig]\n",
        "\n",
        "def genranN(a,b,m,x0,N):\n",
        "    xant = x0\n",
        "    I=[]\n",
        "    X=[]\n",
        "    U=[]\n",
        "    for t in range(1, N+1):\n",
        "        [xi,ui] = genran(a,b,m,xant)\n",
        "        I.append(t)\n",
        "        X.append(xi)\n",
        "        U.append(ui)\n",
        "        xant = xi\n",
        "    return [I,X,U]\n",
        "\n",
        "def showValues(I,X,U):\n",
        "    print(\"i\\tXi\\tUi\")\n",
        "    for t in range(0, len(X)):\n",
        "        print(\"%d\\t%d\\t%2.4f\" % (I[t],X[t],U[t]), sep=' ', end='\\n')\n",
        "\n",
        "def tamanoCiclo(values):\n",
        "    tam = 1\n",
        "    max_len = int(len(values) / 2)\n",
        "    for ii in range(2, max_len):\n",
        "        if (values[0:ii] == values[ii:2*ii]).any() :\n",
        "            return ii\n",
        "    \n",
        "    return tam\n",
        "\n",
        "def genvardiscret(U,X,P):\n",
        "    V = []\n",
        "    for t in range(0, len(U)):\n",
        "        for t2 in range(0, len(X)):\n",
        "            if U[t]<P[t2]:\n",
        "                V.append(X[t2])\n",
        "                break\n",
        "    return V\n",
        "\n",
        "def genpoisson(U,L):\n",
        "    i=0\n",
        "    px=np.exp(-L)\n",
        "    Fx=px\n",
        "\n",
        "    while True:\n",
        "      if U < Fx:\n",
        "        Xi = i\n",
        "        return Xi\n",
        "        break\n",
        "      px = (L*px)/(i+1)\n",
        "      Fx = Fx + px\n",
        "      i = i + 1\n",
        "\n",
        "def genpoissonN(Ui,L,N):\n",
        "  X=[]\n",
        "  for i in range(0,len(Ui)):\n",
        "      xi = genpoisson(Ui[i],L)\n",
        "      X.append(xi)\n",
        "  return X\n",
        "\n",
        "def genbinomial(U,n,p):\n",
        "  c=p/(1-p)\n",
        "  i=0\n",
        "  px=np.power(1-p,n)\n",
        "  Fx=px\n",
        "\n",
        "  while True:\n",
        "    if U < Fx:\n",
        "      Xi = i\n",
        "      return Xi\n",
        "      break\n",
        "    px=(c*(n-i)/(i+1))*px \n",
        "    Fx = Fx + px\n",
        "    i = i + 1\n",
        "\n",
        "def genbinomialN(Ui,n,p,N):\n",
        "  X=[]\n",
        "  for i in range(0,len(Ui)):\n",
        "      xi = genbinomial(Ui[i],n,p)\n",
        "      X.append(xi)\n",
        "  return X"
      ],
      "execution_count": 114,
      "outputs": []
    },
    {
      "cell_type": "code",
      "metadata": {
        "id": "GIVEWVJ1r-W0",
        "colab_type": "code",
        "colab": {
          "base_uri": "https://localhost:8080/",
          "height": 52
        },
        "outputId": "3f94b449-3b6b-4bf3-8137-c53741b0b768"
      },
      "source": [
        "# Similar al ejercicio de Simulación Ad Hoc, se hará la simulación para la llegada de 20 clientes (i.e. N=20)\n",
        "N = 20\n",
        "\n",
        "# Definimos los parámetros del generador congruencial mixto a usar\n",
        "a = 65539.0\n",
        "b = 0.0\n",
        "m = (2**31)\n",
        "\n",
        "# Generamos los valores aleatorios de una distribución uniforme U(0,1) para su posterior uso para generar las variables aleatorias X y Y\n",
        "# para ello usamos semillas (x0) diferentes y los almacenamos en los arreglos Ux y Uy respectivamente\n",
        "x0 = int(round(time.time() * 1000))\n",
        "[Ix,Xx,Ux] = genranN(a,b,m,x0,N)\n",
        "\n",
        "x0 = int(round(time.time() * 1000))\n",
        "[Iy,Xy,Uy] = genranN(a,b,m,x0,N)\n",
        "#\n",
        "\n",
        "# se define el parámetro lambda de la distribución de Poisson para la generación de las variables aleatorias\n",
        "L = 5\n",
        "X = genpoissonN(Ux,L,N)\n",
        "print('Xi='+str(X))\n",
        "n = 20\n",
        "p = 0.4\n",
        "Y = genbinomialN(Uy,n,p,N)\n",
        "print('Yi='+str(Y))"
      ],
      "execution_count": 118,
      "outputs": [
        {
          "output_type": "stream",
          "text": [
            "Xi=[5, 7, 3, 4, 3, 3, 2, 5, 4, 6, 8, 9, 4, 7, 4, 4, 3, 3, 4, 6]\n",
            "Xi=[10, 1, 10, 4, 10, 3, 12, 11, 12, 7]\n"
          ],
          "name": "stdout"
        }
      ]
    },
    {
      "cell_type": "code",
      "metadata": {
        "id": "u66VtKpbs9wX",
        "colab_type": "code",
        "colab": {
          "base_uri": "https://localhost:8080/",
          "height": 387
        },
        "outputId": "4be6dc84-0052-4e86-954f-008f95b597ea"
      },
      "source": [
        "ids = np.arange(1,N+1)\n",
        "\n",
        "TLL = np.cumsum(X)\n",
        "\n",
        "d = {'Cliente': ids, 'T entre llegadas': X, 'T llegada': TLL, 'T servicio': Y, \n",
        "     'T inicio de servicio': np.zeros(N), 'T fin de servicio': np.zeros(N),\n",
        "     'T sistema': np.zeros(N), 'T libre': np.zeros(N), 'T cola': np.zeros(N),\n",
        "     }\n",
        "df = pd.DataFrame(data=d)\n",
        "df\n",
        "\n",
        "for i in range(0, N):\n",
        "  if i>0:\n",
        "    t_espera = max(df['T fin de servicio'][i-1] - df['T llegada'][i], 0)\n",
        "    t_libre = max(df['T llegada'][i] - df['T fin de servicio'][i-1],0)\n",
        "  else:\n",
        "    t_espera = 0\n",
        "    t_libre = df['T llegada'][i]\n",
        "\n",
        "  df['T inicio de servicio'][i] = df['T llegada'][i] + t_espera \n",
        "  df['T fin de servicio'][i] = df['T inicio de servicio'][i] + df['T servicio'][i]\n",
        "  df['T sistema'][i] = df['T fin de servicio'][i] - df['T llegada'][i]\n",
        "  df['T libre'][i] = t_libre\n",
        "  df['T cola'][i] = df['T inicio de servicio'][i] - df['T llegada'][i]\n",
        "\n",
        "df"
      ],
      "execution_count": 119,
      "outputs": [
        {
          "output_type": "error",
          "ename": "ValueError",
          "evalue": "ignored",
          "traceback": [
            "\u001b[0;31m---------------------------------------------------------------------------\u001b[0m",
            "\u001b[0;31mValueError\u001b[0m                                Traceback (most recent call last)",
            "\u001b[0;32m<ipython-input-119-1daf91383ec4>\u001b[0m in \u001b[0;36m<module>\u001b[0;34m()\u001b[0m\n\u001b[1;32m      7\u001b[0m      \u001b[0;34m'T sistema'\u001b[0m\u001b[0;34m:\u001b[0m \u001b[0mnp\u001b[0m\u001b[0;34m.\u001b[0m\u001b[0mzeros\u001b[0m\u001b[0;34m(\u001b[0m\u001b[0mN\u001b[0m\u001b[0;34m)\u001b[0m\u001b[0;34m,\u001b[0m \u001b[0;34m'T libre'\u001b[0m\u001b[0;34m:\u001b[0m \u001b[0mnp\u001b[0m\u001b[0;34m.\u001b[0m\u001b[0mzeros\u001b[0m\u001b[0;34m(\u001b[0m\u001b[0mN\u001b[0m\u001b[0;34m)\u001b[0m\u001b[0;34m,\u001b[0m \u001b[0;34m'T cola'\u001b[0m\u001b[0;34m:\u001b[0m \u001b[0mnp\u001b[0m\u001b[0;34m.\u001b[0m\u001b[0mzeros\u001b[0m\u001b[0;34m(\u001b[0m\u001b[0mN\u001b[0m\u001b[0;34m)\u001b[0m\u001b[0;34m,\u001b[0m\u001b[0;34m\u001b[0m\u001b[0;34m\u001b[0m\u001b[0m\n\u001b[1;32m      8\u001b[0m      }\n\u001b[0;32m----> 9\u001b[0;31m \u001b[0mdf\u001b[0m \u001b[0;34m=\u001b[0m \u001b[0mpd\u001b[0m\u001b[0;34m.\u001b[0m\u001b[0mDataFrame\u001b[0m\u001b[0;34m(\u001b[0m\u001b[0mdata\u001b[0m\u001b[0;34m=\u001b[0m\u001b[0md\u001b[0m\u001b[0;34m)\u001b[0m\u001b[0;34m\u001b[0m\u001b[0;34m\u001b[0m\u001b[0m\n\u001b[0m\u001b[1;32m     10\u001b[0m \u001b[0mdf\u001b[0m\u001b[0;34m\u001b[0m\u001b[0;34m\u001b[0m\u001b[0m\n\u001b[1;32m     11\u001b[0m \u001b[0;34m\u001b[0m\u001b[0m\n",
            "\u001b[0;32m/usr/local/lib/python3.6/dist-packages/pandas/core/frame.py\u001b[0m in \u001b[0;36m__init__\u001b[0;34m(self, data, index, columns, dtype, copy)\u001b[0m\n\u001b[1;32m    433\u001b[0m             )\n\u001b[1;32m    434\u001b[0m         \u001b[0;32melif\u001b[0m \u001b[0misinstance\u001b[0m\u001b[0;34m(\u001b[0m\u001b[0mdata\u001b[0m\u001b[0;34m,\u001b[0m \u001b[0mdict\u001b[0m\u001b[0;34m)\u001b[0m\u001b[0;34m:\u001b[0m\u001b[0;34m\u001b[0m\u001b[0;34m\u001b[0m\u001b[0m\n\u001b[0;32m--> 435\u001b[0;31m             \u001b[0mmgr\u001b[0m \u001b[0;34m=\u001b[0m \u001b[0minit_dict\u001b[0m\u001b[0;34m(\u001b[0m\u001b[0mdata\u001b[0m\u001b[0;34m,\u001b[0m \u001b[0mindex\u001b[0m\u001b[0;34m,\u001b[0m \u001b[0mcolumns\u001b[0m\u001b[0;34m,\u001b[0m \u001b[0mdtype\u001b[0m\u001b[0;34m=\u001b[0m\u001b[0mdtype\u001b[0m\u001b[0;34m)\u001b[0m\u001b[0;34m\u001b[0m\u001b[0;34m\u001b[0m\u001b[0m\n\u001b[0m\u001b[1;32m    436\u001b[0m         \u001b[0;32melif\u001b[0m \u001b[0misinstance\u001b[0m\u001b[0;34m(\u001b[0m\u001b[0mdata\u001b[0m\u001b[0;34m,\u001b[0m \u001b[0mma\u001b[0m\u001b[0;34m.\u001b[0m\u001b[0mMaskedArray\u001b[0m\u001b[0;34m)\u001b[0m\u001b[0;34m:\u001b[0m\u001b[0;34m\u001b[0m\u001b[0;34m\u001b[0m\u001b[0m\n\u001b[1;32m    437\u001b[0m             \u001b[0;32mimport\u001b[0m \u001b[0mnumpy\u001b[0m\u001b[0;34m.\u001b[0m\u001b[0mma\u001b[0m\u001b[0;34m.\u001b[0m\u001b[0mmrecords\u001b[0m \u001b[0;32mas\u001b[0m \u001b[0mmrecords\u001b[0m\u001b[0;34m\u001b[0m\u001b[0;34m\u001b[0m\u001b[0m\n",
            "\u001b[0;32m/usr/local/lib/python3.6/dist-packages/pandas/core/internals/construction.py\u001b[0m in \u001b[0;36minit_dict\u001b[0;34m(data, index, columns, dtype)\u001b[0m\n\u001b[1;32m    252\u001b[0m             \u001b[0marr\u001b[0m \u001b[0;32mif\u001b[0m \u001b[0;32mnot\u001b[0m \u001b[0mis_datetime64tz_dtype\u001b[0m\u001b[0;34m(\u001b[0m\u001b[0marr\u001b[0m\u001b[0;34m)\u001b[0m \u001b[0;32melse\u001b[0m \u001b[0marr\u001b[0m\u001b[0;34m.\u001b[0m\u001b[0mcopy\u001b[0m\u001b[0;34m(\u001b[0m\u001b[0;34m)\u001b[0m \u001b[0;32mfor\u001b[0m \u001b[0marr\u001b[0m \u001b[0;32min\u001b[0m \u001b[0marrays\u001b[0m\u001b[0;34m\u001b[0m\u001b[0;34m\u001b[0m\u001b[0m\n\u001b[1;32m    253\u001b[0m         ]\n\u001b[0;32m--> 254\u001b[0;31m     \u001b[0;32mreturn\u001b[0m \u001b[0marrays_to_mgr\u001b[0m\u001b[0;34m(\u001b[0m\u001b[0marrays\u001b[0m\u001b[0;34m,\u001b[0m \u001b[0mdata_names\u001b[0m\u001b[0;34m,\u001b[0m \u001b[0mindex\u001b[0m\u001b[0;34m,\u001b[0m \u001b[0mcolumns\u001b[0m\u001b[0;34m,\u001b[0m \u001b[0mdtype\u001b[0m\u001b[0;34m=\u001b[0m\u001b[0mdtype\u001b[0m\u001b[0;34m)\u001b[0m\u001b[0;34m\u001b[0m\u001b[0;34m\u001b[0m\u001b[0m\n\u001b[0m\u001b[1;32m    255\u001b[0m \u001b[0;34m\u001b[0m\u001b[0m\n\u001b[1;32m    256\u001b[0m \u001b[0;34m\u001b[0m\u001b[0m\n",
            "\u001b[0;32m/usr/local/lib/python3.6/dist-packages/pandas/core/internals/construction.py\u001b[0m in \u001b[0;36marrays_to_mgr\u001b[0;34m(arrays, arr_names, index, columns, dtype)\u001b[0m\n\u001b[1;32m     62\u001b[0m     \u001b[0;31m# figure out the index, if necessary\u001b[0m\u001b[0;34m\u001b[0m\u001b[0;34m\u001b[0m\u001b[0;34m\u001b[0m\u001b[0m\n\u001b[1;32m     63\u001b[0m     \u001b[0;32mif\u001b[0m \u001b[0mindex\u001b[0m \u001b[0;32mis\u001b[0m \u001b[0;32mNone\u001b[0m\u001b[0;34m:\u001b[0m\u001b[0;34m\u001b[0m\u001b[0;34m\u001b[0m\u001b[0m\n\u001b[0;32m---> 64\u001b[0;31m         \u001b[0mindex\u001b[0m \u001b[0;34m=\u001b[0m \u001b[0mextract_index\u001b[0m\u001b[0;34m(\u001b[0m\u001b[0marrays\u001b[0m\u001b[0;34m)\u001b[0m\u001b[0;34m\u001b[0m\u001b[0;34m\u001b[0m\u001b[0m\n\u001b[0m\u001b[1;32m     65\u001b[0m     \u001b[0;32melse\u001b[0m\u001b[0;34m:\u001b[0m\u001b[0;34m\u001b[0m\u001b[0;34m\u001b[0m\u001b[0m\n\u001b[1;32m     66\u001b[0m         \u001b[0mindex\u001b[0m \u001b[0;34m=\u001b[0m \u001b[0mensure_index\u001b[0m\u001b[0;34m(\u001b[0m\u001b[0mindex\u001b[0m\u001b[0;34m)\u001b[0m\u001b[0;34m\u001b[0m\u001b[0;34m\u001b[0m\u001b[0m\n",
            "\u001b[0;32m/usr/local/lib/python3.6/dist-packages/pandas/core/internals/construction.py\u001b[0m in \u001b[0;36mextract_index\u001b[0;34m(data)\u001b[0m\n\u001b[1;32m    363\u001b[0m             \u001b[0mlengths\u001b[0m \u001b[0;34m=\u001b[0m \u001b[0mlist\u001b[0m\u001b[0;34m(\u001b[0m\u001b[0mset\u001b[0m\u001b[0;34m(\u001b[0m\u001b[0mraw_lengths\u001b[0m\u001b[0;34m)\u001b[0m\u001b[0;34m)\u001b[0m\u001b[0;34m\u001b[0m\u001b[0;34m\u001b[0m\u001b[0m\n\u001b[1;32m    364\u001b[0m             \u001b[0;32mif\u001b[0m \u001b[0mlen\u001b[0m\u001b[0;34m(\u001b[0m\u001b[0mlengths\u001b[0m\u001b[0;34m)\u001b[0m \u001b[0;34m>\u001b[0m \u001b[0;36m1\u001b[0m\u001b[0;34m:\u001b[0m\u001b[0;34m\u001b[0m\u001b[0;34m\u001b[0m\u001b[0m\n\u001b[0;32m--> 365\u001b[0;31m                 \u001b[0;32mraise\u001b[0m \u001b[0mValueError\u001b[0m\u001b[0;34m(\u001b[0m\u001b[0;34m\"arrays must all be same length\"\u001b[0m\u001b[0;34m)\u001b[0m\u001b[0;34m\u001b[0m\u001b[0;34m\u001b[0m\u001b[0m\n\u001b[0m\u001b[1;32m    366\u001b[0m \u001b[0;34m\u001b[0m\u001b[0m\n\u001b[1;32m    367\u001b[0m             \u001b[0;32mif\u001b[0m \u001b[0mhave_dicts\u001b[0m\u001b[0;34m:\u001b[0m\u001b[0;34m\u001b[0m\u001b[0;34m\u001b[0m\u001b[0m\n",
            "\u001b[0;31mValueError\u001b[0m: arrays must all be same length"
          ]
        }
      ]
    },
    {
      "cell_type": "code",
      "metadata": {
        "id": "s3Lz97qJRj54",
        "colab_type": "code",
        "colab": {
          "base_uri": "https://localhost:8080/",
          "height": 105
        },
        "outputId": "abf49461-cf40-4067-9e2f-2dbd9b1e0594"
      },
      "source": [
        "promedio_tiempo_sistema = (df['T sistema'].sum())/N\n",
        "porc_tiempo_libre = sum(df['T libre'][df['T libre']>0])/df['T fin de servicio'][N-1] * 100\n",
        "promedio_tiempo_espera_por_cliente =  (df['T cola'].sum())/N\n",
        "fraccion_clientes_que_esperaron = sum(df['T cola']>0)/N\n",
        "promedio_tiempo_espera_clientes_cola = sum(df['T cola'][df['T cola']>0]) / sum(df['T cola']>0)\n",
        "\n",
        "\n",
        "print('Tiempo promedio en el sistema = ' + str(promedio_tiempo_sistema))\n",
        "print('Porcentaje de tiempo libre del servidor = ' + str(porc_tiempo_libre))\n",
        "print('Promedio de tiempo de espera por cliente = ' + str(promedio_tiempo_espera_por_cliente))\n",
        "print('Fracción de clientes que estuvieron esperando = ' + str(fraccion_clientes_que_esperaron))\n",
        "print('Promedio de tiempo de espera de los clientes que esperaron en cola = ' + str(promedio_tiempo_espera_clientes_cola))"
      ],
      "execution_count": 84,
      "outputs": [
        {
          "output_type": "stream",
          "text": [
            "Tiempo promedio en el sistema = 34.8\n",
            "Porcentaje de tiempo libre del servidor = 2.824858757062147\n",
            "Promedio de tiempo de espera por cliente = 26.2\n",
            "Fracción de clientes que estuvieron esperando = 0.9\n",
            "Promedio de tiempo de espera de los clientes que esperaron en cola = 29.11111111111111\n"
          ],
          "name": "stdout"
        }
      ]
    },
    {
      "cell_type": "markdown",
      "metadata": {
        "id": "aVbse_tu6SBN",
        "colab_type": "text"
      },
      "source": [
        "## 4.  (1.0 punto)\n",
        "Tomando como base la implementación de un sistema de linea de espera con un servidor (<a href=\"https://colab.research.google.com/drive/1Ff8QcrO8vFyNp3BGU7JHHk9mWH9NO8HL?usp=sharing\">Notebook</a>), con las mismas semillas y generadores congruenciales, determine las medidas de desempeño si la variable aleatoria $Y$ correspondiente al tiempo de servicio se comporta como una distribución binomial con parámetros $n=20$ y $p=0.5$ "
      ]
    },
    {
      "cell_type": "code",
      "metadata": {
        "id": "JQRNZV5qBDke",
        "colab_type": "code",
        "colab": {}
      },
      "source": [
        "%matplotlib inline \n",
        "\n",
        "import numpy as np\n",
        "import math\n",
        "import matplotlib.pyplot as plt"
      ],
      "execution_count": 87,
      "outputs": []
    },
    {
      "cell_type": "code",
      "metadata": {
        "id": "Lz-iSvOkuHFr",
        "colab_type": "code",
        "colab": {}
      },
      "source": [
        "Xant1 = 434287492\n",
        "Xant2 = 514324426\n",
        "\n",
        "M = 99999.0\n",
        "T = 40.0\n",
        "at = []\n",
        "an = []\n",
        "LLt = []\n",
        "St = []"
      ],
      "execution_count": 89,
      "outputs": []
    },
    {
      "cell_type": "code",
      "metadata": {
        "id": "iaHHnBBwuOPl",
        "colab_type": "code",
        "colab": {}
      },
      "source": [
        "def gencongru1(): \n",
        "    global Xant1\n",
        "    a = 134775813\n",
        "    c = 1\n",
        "    m = 2**32\n",
        "    Xnext = (a * Xant1 + c) % m\n",
        "    Xant1 = Xnext\n",
        "    U = Xnext / m\n",
        "    return U\n",
        "\n",
        "def gencongru2():\n",
        "    global Xant2\n",
        "    a = 1140671485\n",
        "    c = 12820163\n",
        "    m = 2**24\n",
        "    Xnext = (a * Xant2 + c) % m\n",
        "    Xant2 = Xnext\n",
        "    U = Xnext / m\n",
        "    return U\n",
        "\n",
        "def GenerarX():\n",
        "    vlambda = 3\n",
        "    U = gencongru1()\n",
        "    X = -(math.log(1-U))/float(vlambda)\n",
        "    return X\n",
        "\n",
        "def GenerarY():\n",
        "  U = gencongru2()\n",
        "  n=20\n",
        "  p=0.5\n",
        "  c=p/(1-p)\n",
        "  i=0\n",
        "  px=np.power(1-p,n)\n",
        "  Fx=px\n",
        "\n",
        "  while True:\n",
        "    if U < Fx:\n",
        "      Xi = i\n",
        "      return Xi\n",
        "      break\n",
        "    px=(c*(n-i)/(i+1))*px \n",
        "    Fx = Fx + px\n",
        "    i = i + 1\n",
        "\n",
        "def Llegada(tsuc):\n",
        "    global n, NLL, NS, t, S, Serv, LL, at, an\n",
        "    t=tsuc\n",
        "    n = n + 1\n",
        "    LLt.append(t)\n",
        "    at.append(t)\n",
        "    an.append(n)\n",
        "    \n",
        "    NLL = NLL + 1\n",
        "    LL.append(t)\n",
        "    \n",
        "    X = GenerarX()\n",
        "    \n",
        "    if (t+X) < T:\n",
        "        TSuc['tLL'] = t + X\n",
        "    if n==1:\n",
        "        Y = GenerarY()\n",
        "        TSuc['tS'] = t + Y\n",
        "        #Serv[NS]=Y \n",
        "        Serv.append(Y)\n",
        "        \n",
        "def Servidor(tsuc):\n",
        "    global n, NLL, NS, t, S, Serv, LL, at, an\n",
        "    t = tsuc\n",
        "    n = n - 1\n",
        "    \n",
        "    St.append(t)\n",
        "    at.append(t)\n",
        "    an.append(n)\n",
        "    \n",
        "    NS = NS + 1\n",
        "    S.append(t)\n",
        "\n",
        "    if n>0:\n",
        "        Y = GenerarY()\n",
        "        TSuc['tS'] = t + Y\n",
        "        Serv.append(Y) "
      ],
      "execution_count": 90,
      "outputs": []
    },
    {
      "cell_type": "code",
      "metadata": {
        "id": "1qZyjVgzuPBC",
        "colab_type": "code",
        "colab": {}
      },
      "source": [
        "t = tsuc = NLL = NS = n = 0\n",
        "\n",
        "at.append(t)\n",
        "an.append(n)\n",
        "\n",
        "TSuc = {\"tLL\":M, \"tS\":M}\n",
        "\n",
        "LL = []\n",
        "S = []\n",
        "Serv = []\n",
        "LL.append(0.0)\n",
        "S.append(0.0)\n",
        "Serv.append(0.0)\n",
        "\n",
        "X = GenerarX()\n",
        "\n",
        "if X > T:\n",
        "    Tp = t_med_sistema = t_med_cola = 0.0\n",
        "    exit\n",
        "else:\n",
        "    Llegada(X)\n",
        "    while((TSuc['tLL'] != M)|(TSuc['tS']!=M)):\n",
        "        if TSuc['tLL'] < TSuc['tS']:\n",
        "            tsuc = TSuc['tLL']\n",
        "            TSuc['tLL'] = M\n",
        "            Llegada(tsuc)\n",
        "            \n",
        "        if TSuc['tS'] < TSuc['tLL']:\n",
        "            tsuc = TSuc['tS']\n",
        "            TSuc['tS'] = M\n",
        "            Servidor(tsuc)\n",
        "\n",
        "    Tp = max(0,t-T)\n",
        "    acumulo1 = acumulo2 = 0.0\n",
        "    ind = 0\n",
        "    \n",
        "    while ind < NLL:\n",
        "        acumulo1 = acumulo1 + S[ind] - LL[ind]\n",
        "        acumulo2 = acumulo2 + S[ind] - LL[ind] - Serv[ind]\n",
        "        ind = ind + 1\n",
        "    t_med_sistema = acumulo1/NLL\n",
        "    t_med_cola = acumulo2/NLL\n",
        "\n",
        "    exit"
      ],
      "execution_count": 91,
      "outputs": []
    },
    {
      "cell_type": "code",
      "metadata": {
        "id": "ikvoBONNuVeX",
        "colab_type": "code",
        "colab": {
          "base_uri": "https://localhost:8080/",
          "height": 863
        },
        "outputId": "b0733a38-dabe-40bb-d5e3-844d7322ad1a"
      },
      "source": [
        "at = np.array(at)\n",
        "an = np.array(an)\n",
        "\n",
        "LLt = np.array(LLt)\n",
        "St = np.array(St)\n",
        "\n",
        "tmp = np.zeros((len(LLt)))+1\n",
        "\n",
        "plt.plot(LLt, tmp, 'r.')\n",
        "plt.xlim(0, max(at))\n",
        "plt.show()\n",
        "\n",
        "tmp = np.zeros((len(St)))+1\n",
        "\n",
        "plt.plot(St, tmp, 'b.')\n",
        "plt.xlim(0, max(at))\n",
        "plt.show()\n",
        "\n",
        "plt.plot(at,an)\n",
        "plt.xlabel('tiempo (t)')\n",
        "plt.ylabel('numero de clientes en el sistema (n)')\n",
        "plt.show()\n",
        "\n",
        "print(\"Tiempo medio de los clientes en el sistema: \",t_med_sistema)\n",
        "print(\"Tiempo medio de los clientes en la cola: \",t_med_cola)\n",
        "print(\"Tiempo transcurrido desde T hasta que el último cliente abandona el sistema: \",Tp)\n",
        "print(\"Número máximo de clientes en el sistema: \",max(an))\n",
        "print(\"Total de clientes que pasaron por el sistema: \",NLL)"
      ],
      "execution_count": 92,
      "outputs": [
        {
          "output_type": "display_data",
          "data": {
            "image/png": "[encoded data removed]",
            "text/plain": [
              "<Figure size 432x288 with 1 Axes>"
            ]
          },
          "metadata": {
            "tags": [],
            "needs_background": "light"
          }
        },
        {
          "output_type": "display_data",
          "data": {
            "image/png": "[encoded data removed]",
            "text/plain": [
              "<Figure size 432x288 with 1 Axes>"
            ]
          },
          "metadata": {
            "tags": [],
            "needs_background": "light"
          }
        },
        {
          "output_type": "display_data",
          "data": {
            "image/png": "[encoded data removed]",
            "text/plain": [
              "<Figure size 432x288 with 1 Axes>"
            ]
          },
          "metadata": {
            "tags": [],
            "needs_background": "light"
          }
        },
        {
          "output_type": "stream",
          "text": [
            "Tiempo medio de los clientes en el sistema:  593.8940319607556\n",
            "Tiempo medio de los clientes en la cola:  584.007853098967\n",
            "Tiempo transcurrido desde T hasta que el último cliente abandona el sistema:  1184.047673493411\n",
            "Número máximo de clientes en el sistema:  120\n",
            "Total de clientes que pasaron por el sistema:  123\n"
          ],
          "name": "stdout"
        }
      ]
    },
    {
      "cell_type": "markdown",
      "metadata": {
        "id": "D6i0hqZH6NMW",
        "colab_type": "text"
      },
      "source": [
        "## 5.  (1.0 punto)\n",
        "Usando el ejemplo de SimPy de abajo de una conferencia que incluye buffet (refrigerio) con un tiempo máximo de simulación de 4 horas (i.e. 240 minutos) modifique el código para:\n",
        "\n",
        "**a)** Implementar las medidas de desempeño de hambre promedio y conocimiento promedio.<br>\n",
        "**b)** Comparar y analizar los siguientes escenarios a partir de las medidas de desempeño implementadas indicando cual escenario es mejor:\n",
        "\n",
        "> 1. Duración de la charla 15 minutos, 4 charlas por sesión, 15 minutos de break, 2 puestos de buffet y 3 minutos por turno para comer en el buffet\n",
        "> 2. Duración de la charla 20 minutos, 4 charlas por sesión, 10 minutos de break, 2 puestos de buffet y 3 minutos por turno para comer en el buffet\n",
        "> 3. Duración de la charla 15 minutos, 4 charlas por sesión, 20 minutos de break, 1 puestos de buffet y 3 minutos por turno para comer en el buffet\n",
        "\n",
        "**c)** Implemente una configuración que garantice que el conocimiento promedio adquirido por los asistentes sea mayor de 3 y el hambre promedio sea menor a 2."
      ]
    },
    {
      "cell_type": "code",
      "metadata": {
        "id": "_5ZUQ92s6wQZ",
        "colab_type": "code",
        "colab": {
          "base_uri": "https://localhost:8080/",
          "height": 87
        },
        "outputId": "f768e8d6-86d8-4656-a6fe-e596e6bf73a9"
      },
      "source": [
        "!pip install simpy\n",
        "import simpy"
      ],
      "execution_count": 54,
      "outputs": [
        {
          "output_type": "stream",
          "text": [
            "Collecting simpy\n",
            "  Downloading https://files.pythonhosted.org/packages/20/f9/874b0bab83406827db93292a5bbe5acb5c18e3cea665b2f6e053292cb687/simpy-4.0.1-py2.py3-none-any.whl\n",
            "Installing collected packages: simpy\n",
            "Successfully installed simpy-4.0.1\n"
          ],
          "name": "stdout"
        }
      ]
    },
    {
      "cell_type": "code",
      "metadata": {
        "id": "cnWJq7SO6j9e",
        "colab_type": "code",
        "colab": {}
      },
      "source": [
        "from random import randint\n",
        "import simpy "
      ],
      "execution_count": 55,
      "outputs": []
    },
    {
      "cell_type": "code",
      "metadata": {
        "id": "w1yIh5KG6l2B",
        "colab_type": "code",
        "colab": {}
      },
      "source": [
        "TALKS_PER_SESSION = 3\n",
        "TALK_LENGTH = 30\n",
        "BREAK_LENGTH = 15\n",
        "DURATION_EAT = 3\n",
        "BUFFET_SLOTS = 2"
      ],
      "execution_count": 62,
      "outputs": []
    },
    {
      "cell_type": "code",
      "metadata": {
        "id": "dsNLHwHW6nvh",
        "colab_type": "code",
        "colab": {}
      },
      "source": [
        "def attendee(env, name, buffet, knowledge=0, hunger=0):\n",
        "  while True:\n",
        "    # Visit talks\n",
        "    for i in range(TALKS_PER_SESSION):\n",
        "      knowledge = knowledge + randint(0, 3) / (1 + hunger)\n",
        "      hunger = hunger + randint(1, 4)\n",
        "      yield env.timeout(TALK_LENGTH)\n",
        "    print('El asistente %s terminó las charlas con un conocimiento %.2f y hambre '\n",
        "    '%.2f.' % (name, knowledge, hunger))\n",
        "\n",
        "    # Go to buffet\n",
        "    start = env.now\n",
        "    with buffet.request() as req:\n",
        "      yield req | env.timeout(BREAK_LENGTH - DURATION_EAT)\n",
        "      time_left = BREAK_LENGTH - (env.now - start)\n",
        "      \n",
        "      if req.triggered:\n",
        "        food = min(randint(3, 12), time_left) # Less time -> less food\n",
        "        yield env.timeout(DURATION_EAT)\n",
        "        hunger -= min(food, hunger)\n",
        "        time_left -= DURATION_EAT\n",
        "        print('El asistente %s terminó de comer con hambre %.2f' %\n",
        "              (name, hunger))\n",
        "      else:\n",
        "        hunger += 1 # Penalty for only taking a look at all the food.\n",
        "        print('El asistente %s no llegó al buffet :( , el hambre es ahora '\n",
        "        'at %.2f.' % (name, hunger))\n",
        "    yield env.timeout(time_left)"
      ],
      "execution_count": 57,
      "outputs": []
    },
    {
      "cell_type": "code",
      "metadata": {
        "id": "wQZQGTMn6pG2",
        "colab_type": "code",
        "colab": {
          "base_uri": "https://localhost:8080/",
          "height": 372
        },
        "outputId": "2f3f3f11-9802-423a-efca-006cb5429841"
      },
      "source": [
        "env = simpy.Environment()\n",
        "buffet = simpy.Resource(env, capacity=BUFFET_SLOTS)\n",
        "for i in range(5):\n",
        "  env.process(attendee(env, i, buffet))\n",
        "env.run(until=220)"
      ],
      "execution_count": 65,
      "outputs": [
        {
          "output_type": "stream",
          "text": [
            "El asistente 0 terminó las charlas con un conocimiento 3.73 y hambre 9.00.\n",
            "El asistente 1 terminó las charlas con un conocimiento 3.50 y hambre 5.00.\n",
            "El asistente 2 terminó las charlas con un conocimiento 2.25 y hambre 7.00.\n",
            "El asistente 3 terminó las charlas con un conocimiento 0.00 y hambre 7.00.\n",
            "El asistente 4 terminó las charlas con un conocimiento 0.79 y hambre 8.00.\n",
            "El asistente 0 terminó de comer con hambre 4.00\n",
            "El asistente 1 terminó de comer con hambre 0.00\n",
            "El asistente 2 terminó de comer con hambre 0.00\n",
            "El asistente 3 terminó de comer con hambre 0.00\n",
            "El asistente 4 no llegó al buffet :( , el hambre es ahora at 9.00.\n",
            "El asistente 0 terminó las charlas con un conocimiento 4.87 y hambre 10.00.\n",
            "El asistente 1 terminó las charlas con un conocimiento 5.38 y hambre 8.00.\n",
            "El asistente 2 terminó las charlas con un conocimiento 3.78 y hambre 5.00.\n",
            "El asistente 3 terminó las charlas con un conocimiento 2.25 y hambre 6.00.\n",
            "El asistente 4 terminó las charlas con un conocimiento 1.14 y hambre 19.00.\n",
            "El asistente 0 terminó de comer con hambre 3.00\n",
            "El asistente 1 terminó de comer con hambre 0.00\n",
            "El asistente 2 terminó de comer con hambre 0.00\n",
            "El asistente 3 terminó de comer con hambre 1.00\n",
            "El asistente 4 no llegó al buffet :( , el hambre es ahora at 20.00.\n"
          ],
          "name": "stdout"
        }
      ]
    }
  ]
}