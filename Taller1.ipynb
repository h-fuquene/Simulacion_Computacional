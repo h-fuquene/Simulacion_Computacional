{
 "cells": [
  {
   "cell_type": "markdown",
   "metadata": {
    "colab_type": "text",
    "id": "Rhnd7gir-jz-"
   },
   "source": [
    "# **Taller 1 - Simulación Computacional 2020-I**\n",
    "\n",
    "Fecha de entrega: 7 de Septiembre de 2020"
   ]
  },
  {
   "cell_type": "markdown",
   "metadata": {
    "colab_type": "text",
    "id": "eae9HxiDQG8H"
   },
   "source": [
    "## 1.\n",
    "Los siguientes datos muestran los tiempos de llegada y los tiempos de servicio que requerirá cada cliente, para los primeros 13 clientes en un sistema de servidor único. A su llegada, un cliente ingresa al servicio si el servidor está libre o se une a la línea de espera. Cuando el servidor completa el trabajo en un cliente, el siguiente en la fila (es decir, el que ha estado esperando por más tiempo) entra en servicio.\n",
    "\n",
    "\n",
    "| Tiempos de llegada  | 12 | 31 | 63 | 95 | 99 | 154 | 198 | 221 | 304 | 346 | 411 | 455 | 537|\n",
    "----------------------| |  |  |  |  |   |   |   |   |   |   |   |  |\n",
    "| Tiempos de servicio | 40 | 32 | 55 | 48 | 18 |  50 |  47 |  18 |  28 |  54 |  40 |  72 |  12|\n",
    "\n",
    "a) Determine los tiempos de salida de estos 13 clientes.<br>\n",
    "b) Repetir a) cuando hay dos servidores y un cliente puede ser atendido por cualquiera.<br>\n",
    "c) Repetir a) bajo el nuevo supuesto que cuando el servidor termina un servicio, el siguiente cliente en entrar al servidor es aquel quien ha estado esperando el menor tiempo."
   ]
  },
  {
   "cell_type": "code",
   "execution_count": 32,
   "metadata": {
    "colab": {},
    "colab_type": "code",
    "id": "PQvoAkyMfeJt",
    "scrolled": true
   },
   "outputs": [
    {
     "name": "stdout",
     "output_type": "stream",
     "text": [
      "Clientes\t Tiempo llegada \t Tiempo servicio\t Tiempo salida\n",
      "1\t\t\t 12\t\t\t 40\t\t\t 52\n",
      "2\t\t\t 31\t\t\t 32\t\t\t 84\n",
      "3\t\t\t 63\t\t\t 55\t\t\t 139\n",
      "4\t\t\t 95\t\t\t 48\t\t\t 187\n",
      "5\t\t\t 99\t\t\t 18\t\t\t 205\n",
      "6\t\t\t 145\t\t\t 50\t\t\t 255\n",
      "7\t\t\t 198\t\t\t 47\t\t\t 302\n",
      "8\t\t\t 221\t\t\t 18\t\t\t 320\n",
      "9\t\t\t 304\t\t\t 28\t\t\t 348\n",
      "10\t\t\t 346\t\t\t 54\t\t\t 402\n",
      "11\t\t\t 411\t\t\t 40\t\t\t 451\n",
      "12\t\t\t 455\t\t\t 72\t\t\t 527\n",
      "13\t\t\t 537\t\t\t 12\t\t\t 549\n"
     ]
    }
   ],
   "source": [
    "import numpy as np\n",
    "\n",
    "def calcular_salida(num_clientes,tiempo_lleg,tiempo_serv):\n",
    "    tiempo_sal=list(range(0,len(tiempo_lleg),1))\n",
    "    aux=[0]\n",
    "    for i in range(0, len(tiempo_lleg)):\n",
    "        if tiempo_lleg[i]<aux[0]:\n",
    "            tiempo_sal[i]=aux[0]+tiempo_serv[i]\n",
    "            aux[0]=tiempo_sal[i]\n",
    "        else:\n",
    "            tiempo_sal[i]=tiempo_lleg[i]+tiempo_serv[i]\n",
    "            aux[0]=tiempo_sal[i]\n",
    "    print(\"Clientes\\t Tiempo llegada \\t Tiempo servicio\\t Tiempo salida\")        \n",
    "    for t in range(0, len(num_clientes)):\n",
    "        print(\"%d\\t\\t\\t %d\\t\\t\\t %d\\t\\t\\t %d\" %(num_clientes[t], tiempo_lleg[t], tiempo_serv[t], tiempo_sal[t]), end='\\n')\n",
    "num_clientes=list(range(1,14,1))\n",
    "tiempo_lleg=[12,31,63,95,99,145,198,221,304,346,411,455,537]\n",
    "tiempo_serv=[40,32,55,48,18,50,47,18,28,54,40,72,12]\n",
    "calcular_salida(num_clientes, tiempo_lleg, tiempo_serv)"
   ]
  },
  {
   "cell_type": "markdown",
   "metadata": {},
   "source": [
    "b) Repetir a) cuando hay dos servidores y un cliente puede ser atendido por cualquiera.<br>"
   ]
  },
  {
   "cell_type": "code",
   "execution_count": 1,
   "metadata": {},
   "outputs": [
    {
     "name": "stdout",
     "output_type": "stream",
     "text": [
      "Clientes\t Tiempo llegada \t Tiempo servicio\t Tiempo salida\n",
      "1\t\t\t 12\t\t\t 40\t\t\t 52\n",
      "2\t\t\t 31\t\t\t 32\t\t\t 63\n",
      "3\t\t\t 63\t\t\t 55\t\t\t 107\n",
      "4\t\t\t 95\t\t\t 48\t\t\t 111\n",
      "5\t\t\t 99\t\t\t 18\t\t\t 125\n",
      "6\t\t\t 145\t\t\t 50\t\t\t 195\n",
      "7\t\t\t 198\t\t\t 47\t\t\t 245\n",
      "8\t\t\t 221\t\t\t 18\t\t\t 129\n",
      "9\t\t\t 304\t\t\t 28\t\t\t 332\n",
      "10\t\t\t 346\t\t\t 54\t\t\t 400\n",
      "11\t\t\t 411\t\t\t 40\t\t\t 451\n",
      "12\t\t\t 455\t\t\t 72\t\t\t 527\n",
      "13\t\t\t 537\t\t\t 12\t\t\t 549\n"
     ]
    }
   ],
   "source": [
    "import numpy as np\n",
    "\n",
    "def calcular_salida(num_clientes,tiempo_lleg,tiempo_serv):\n",
    "    tiempo_sal=list(range(0,len(tiempo_lleg),1))\n",
    "    aux1=[0]\n",
    "    aux2=[0]\n",
    "    for i in range(0, len(tiempo_lleg)):\n",
    "      if tiempo_lleg[i]>aux1[0] and tiempo_lleg[i]>aux2[0]:\n",
    "        tiempo_sal[i]=tiempo_lleg[i]+tiempo_serv[i]\n",
    "        aux1[0]=tiempo_sal[i]\n",
    "      else:\n",
    "        if tiempo_lleg[i] < aux1[0] and tiempo_lleg[i]>aux2[0] and aux2[0]==0:\n",
    "          tiempo_sal[i]=tiempo_lleg[i]+tiempo_serv[i]\n",
    "          aux2[0]=tiempo_sal[i]\n",
    "        else:\n",
    "          if aux2[0]>aux1[0]:\n",
    "            tiempo_sal[i]=aux1[0]+tiempo_serv[i]\n",
    "            aux1[0]=tiempo_sal[i]\n",
    "          else:\n",
    "            tiempo_sal[i]=aux2[0]+tiempo_serv[i]\n",
    "            aux2[0]=tiempo_sal[i]\n",
    "    print(\"Clientes\\t Tiempo llegada \\t Tiempo servicio\\t Tiempo salida\")        \n",
    "    for t in range(0, len(num_clientes)):\n",
    "        print(\"%d\\t\\t\\t %d\\t\\t\\t %d\\t\\t\\t %d\" %(num_clientes[t], tiempo_lleg[t], tiempo_serv[t], tiempo_sal[t]), end='\\n')\n",
    "num_clientes=list(range(1,14,1))\n",
    "tiempo_lleg=[12,31,63,95,99,145,198,221,304,346,411,455,537]\n",
    "tiempo_serv=[40,32,55,48,18,50,47,18,28,54,40,72,12]\n",
    "calcular_salida(num_clientes, tiempo_lleg, tiempo_serv)"
   ]
  },
  {
   "cell_type": "markdown",
   "metadata": {
    "colab_type": "text",
    "id": "cpUpE8lokBBR"
   },
   "source": [
    "\n",
    "## 2.\n",
    "Implementar el método de cuadrados medios (Mid-Square) para cualquier numero de $2n$ cifras."
   ]
  },
  {
   "cell_type": "code",
   "execution_count": 53,
   "metadata": {
    "colab": {
     "base_uri": "https://localhost:8080/",
     "height": 51
    },
    "colab_type": "code",
    "id": "u59S6W7QpbRJ",
    "outputId": "e58c9de7-28b1-460f-dd93-53a727518f22"
   },
   "outputs": [
    {
     "name": "stdout",
     "output_type": "stream",
     "text": [
      "Ingrese la cantidad: 5\n",
      "Ingrese una semilla: 20\n",
      "Resultado Mid Square con cantidad= 5, xo= 20\n",
      "[0.4, 0.6, 0.6, 0.6, 0.6]\n"
     ]
    }
   ],
   "source": [
    "def metodo_mid_square(cant,x0):\n",
    "    pseudoaletorios=[]\n",
    "    if len(str(x0))%2 != 0:\n",
    "        print(\"No ha digitado una semilla con sifra par.\")\n",
    "        return None\n",
    "    else:\n",
    "        x0=str(x0)\n",
    "    actual=x0\n",
    "    for i in range(0,cant):\n",
    "        actual_cuadrado=str(int(actual)**2)\n",
    "        if len(actual_cuadrado)!=(2*len(actual)):\n",
    "            ceros_faltantes=(2*len(actual))-len(actual_cuadrado)\n",
    "            ceros_faltantes=\"0\"*ceros_faltantes\n",
    "            actual_cuadrado=ceros_faltantes+actual_cuadrado\n",
    "        aux=int(len(actual)/2)\n",
    "        sig=actual_cuadrado[aux:int(aux+len(actual))]\n",
    "        pseudoaletorios.append(float(\"0.\" + sig))\n",
    "        actual=sig\n",
    "    return pseudoaletorios\n",
    "\n",
    "cant=int(input(\"Ingrese la cantidad: \"))\n",
    "x0=int(input(\"Ingrese una semilla: \"))\n",
    "resultado_mid_square = metodo_mid_square(cant, x0)\n",
    "print(\"Resultado Mid Square con cantidad= {}, xo= {}\".format(cant,x0))\n",
    "print(resultado_mid_square)"
   ]
  },
  {
   "cell_type": "markdown",
   "metadata": {
    "colab_type": "text",
    "id": "aRS-Mj1pcjCF"
   },
   "source": [
    "## 3.\n",
    "Si $x_0=5$ y\n",
    "$$ x_n = 3x_{n-1} \\mod 150 $$\n",
    "\n",
    "encuentre $x_1,...,x_{10}$"
   ]
  },
  {
   "cell_type": "code",
   "execution_count": 113,
   "metadata": {
    "colab": {
     "base_uri": "https://localhost:8080/",
     "height": 51
    },
    "colab_type": "code",
    "id": "eMRkbSDhfdcZ",
    "outputId": "09d62c99-cbf5-4baa-8eae-bb61b7e3298a"
   },
   "outputs": [
    {
     "name": "stdout",
     "output_type": "stream",
     "text": [
      "Resultado Congruencial Mixto con n =10, xo=5, a=3, c=0, mod=150\n",
      "[0.1, 0.3, 0.9, 0.7, 0.1, 0.3, 0.9, 0.7, 0.1, 0.3]\n"
     ]
    }
   ],
   "source": [
    "from datetime import datetime\n",
    "import random\n",
    "\n",
    "def metodo_congruencial_mixto(cantidad=1, x0=None, a=None, c=None, mod=None):\n",
    "    pseudoaletorios = []\n",
    "    if x0 !='val':\n",
    "        x0\n",
    "    if a != 'val':\n",
    "        a\n",
    "    if c !='val':\n",
    "        c\n",
    "    if mod !='val':\n",
    "        mod \n",
    "    actual=x0\n",
    "    for i in range(0,cantidad):\n",
    "        xn=(a*actual+c)%mod\n",
    "        un=xn/mod\n",
    "        pseudoaletorios.append(un)\n",
    "        actual=xn\n",
    "    return pseudoaletorios\n",
    "cantidad=10\n",
    "x0=5\n",
    "a=3\n",
    "c=0\n",
    "mod=150\n",
    "resultado_congruencial_mixto=metodo_congruencial_mixto(cantidad,x0,a,c,mod)\n",
    "print(\"Resultado Congruencial Mixto con n ={}, xo={}, a={}, c={}, mod={}\".format(cantidad,x0,a,c,mod))\n",
    "print(resultado_congruencial_mixto)\n"
   ]
  },
  {
   "cell_type": "markdown",
   "metadata": {
    "colab_type": "text",
    "id": "ycKN0yXRd0wD"
   },
   "source": [
    "## 4.\n",
    "Si $ x_0=3 $ y\n",
    "$$ x_n = (5x_{n-1}+7) \\mod 200 $$\n",
    "\n",
    "encuentre $x_1,...,x_{10}$"
   ]
  },
  {
   "cell_type": "code",
   "execution_count": 99,
   "metadata": {
    "colab": {
     "base_uri": "https://localhost:8080/",
     "height": 51
    },
    "colab_type": "code",
    "id": "IQSVgbpifc9T",
    "outputId": "567b4002-bcb2-4dad-be0c-7a3057fa7d95"
   },
   "outputs": [
    {
     "name": "stdout",
     "output_type": "stream",
     "text": [
      "Resultado Congruencial Mixto con cantidad=10, xo=3, a=5, c=7, mod=200\n",
      "[0.44, 0.565, 0.19, 0.315, 0.94, 0.065, 0.69, 0.815, 0.44, 0.565]\n"
     ]
    }
   ],
   "source": [
    "cantidad=10\n",
    "x0=3\n",
    "a=5\n",
    "c=7\n",
    "mod=200\n",
    "resultado_congruencial_mixto=metodo_congruencial_mixto(cantidad,x0,a,c,mod)\n",
    "print(\"Resultado Congruencial Mixto con cantidad={}, xo={}, a={}, c={}, mod={}\".format(cantidad,x0,a,c,mod))\n",
    "print(resultado_congruencial_mixto)"
   ]
  },
  {
   "cell_type": "markdown",
   "metadata": {
    "colab_type": "text",
    "id": "R4qXgEoJG_Uv"
   },
   "source": [
    "## 5.\n",
    "Si $x_0=137$ y\n",
    "$$x_n = (15x_{n-1}+3) \\mod 21$$\n",
    "\n",
    "**a)** encuentre $x_1,...,x_{100}$"
   ]
  },
  {
   "cell_type": "code",
   "execution_count": 102,
   "metadata": {
    "colab": {
     "base_uri": "https://localhost:8080/",
     "height": 71
    },
    "colab_type": "code",
    "id": "hgXiAOH3bo7f",
    "outputId": "e1849914-0703-4d35-fe0b-aa506729c758"
   },
   "outputs": [
    {
     "name": "stdout",
     "output_type": "stream",
     "text": [
      "Resultado Congruencial Mixto con cantidad=100, xo=137, a=15, c=3, mod=21\n",
      "[0.8571428571428571, 0.8571428571428571, 0.8571428571428571, 0.8571428571428571, 0.8571428571428571, 0.8571428571428571, 0.8571428571428571, 0.8571428571428571, 0.8571428571428571, 0.8571428571428571, 0.8571428571428571, 0.8571428571428571, 0.8571428571428571, 0.8571428571428571, 0.8571428571428571, 0.8571428571428571, 0.8571428571428571, 0.8571428571428571, 0.8571428571428571, 0.8571428571428571, 0.8571428571428571, 0.8571428571428571, 0.8571428571428571, 0.8571428571428571, 0.8571428571428571, 0.8571428571428571, 0.8571428571428571, 0.8571428571428571, 0.8571428571428571, 0.8571428571428571, 0.8571428571428571, 0.8571428571428571, 0.8571428571428571, 0.8571428571428571, 0.8571428571428571, 0.8571428571428571, 0.8571428571428571, 0.8571428571428571, 0.8571428571428571, 0.8571428571428571, 0.8571428571428571, 0.8571428571428571, 0.8571428571428571, 0.8571428571428571, 0.8571428571428571, 0.8571428571428571, 0.8571428571428571, 0.8571428571428571, 0.8571428571428571, 0.8571428571428571, 0.8571428571428571, 0.8571428571428571, 0.8571428571428571, 0.8571428571428571, 0.8571428571428571, 0.8571428571428571, 0.8571428571428571, 0.8571428571428571, 0.8571428571428571, 0.8571428571428571, 0.8571428571428571, 0.8571428571428571, 0.8571428571428571, 0.8571428571428571, 0.8571428571428571, 0.8571428571428571, 0.8571428571428571, 0.8571428571428571, 0.8571428571428571, 0.8571428571428571, 0.8571428571428571, 0.8571428571428571, 0.8571428571428571, 0.8571428571428571, 0.8571428571428571, 0.8571428571428571, 0.8571428571428571, 0.8571428571428571, 0.8571428571428571, 0.8571428571428571, 0.8571428571428571, 0.8571428571428571, 0.8571428571428571, 0.8571428571428571, 0.8571428571428571, 0.8571428571428571, 0.8571428571428571, 0.8571428571428571, 0.8571428571428571, 0.8571428571428571, 0.8571428571428571, 0.8571428571428571, 0.8571428571428571, 0.8571428571428571, 0.8571428571428571, 0.8571428571428571, 0.8571428571428571, 0.8571428571428571, 0.8571428571428571, 0.8571428571428571]\n"
     ]
    }
   ],
   "source": [
    "cantidad=100\n",
    "x0=137\n",
    "a=15\n",
    "c=3\n",
    "mod=21\n",
    "resultado_congruencial_mixto_last=metodo_congruencial_mixto(cantidad,x0,a,c,mod)\n",
    "print(\"Resultado Congruencial Mixto con cantidad={}, xo={}, a={}, c={}, mod={}\".format(cantidad,x0,a,c,mod))\n",
    "print(resultado_congruencial_mixto_last)"
   ]
  },
  {
   "cell_type": "markdown",
   "metadata": {
    "colab_type": "text",
    "id": "cvNyzsN9-gqe"
   },
   "source": [
    "**b)** el tamaño del ciclo (si lo tiene)"
   ]
  },
  {
   "cell_type": "code",
   "execution_count": 62,
   "metadata": {
    "colab": {
     "base_uri": "https://localhost:8080/",
     "height": 34
    },
    "colab_type": "code",
    "id": "vTeBbd5YHLhe",
    "outputId": "81abaa4d-dfff-4a04-ec01-356de751e59c"
   },
   "outputs": [
    {
     "name": "stdout",
     "output_type": "stream",
     "text": [
      "El periodo es: 7\n"
     ]
    }
   ],
   "source": [
    "def calcular_periodo(lista_aleatorios):\n",
    "    periodo=0\n",
    "    for i in range(0, len(lista_aleatorios)):\n",
    "        for j in range(i+1, len(lista_aleatorios)):\n",
    "            if lista_aleatorios[i]==lista_aleatorios[j]:\n",
    "                periodo=j-i\n",
    "                break\n",
    "        if periodo !=0:\n",
    "            break\n",
    "\n",
    "    return periodo\n",
    "\n",
    "print(\"El periodo es: {}\".format(calcular_periodo(resultado_congruencial_mixto_last)))"
   ]
  },
  {
   "cell_type": "markdown",
   "metadata": {
    "colab_type": "text",
    "id": "zdWnWWHhsl0f"
   },
   "source": [
    "## 6.\n",
    "Si $ x_0=7 $ y\n",
    "$$ x_n = (5x_{n-1}+3) \\mod 33$$\n",
    "\n",
    "**a)** encuentre $u_1,...,u_{100}$"
   ]
  },
  {
   "cell_type": "code",
   "execution_count": 63,
   "metadata": {
    "colab": {
     "base_uri": "https://localhost:8080/",
     "height": 71
    },
    "colab_type": "code",
    "id": "UE2d7o_2tCMV",
    "outputId": "bc4516b6-a3f0-4691-a3fd-7d0852cef824"
   },
   "outputs": [
    {
     "name": "stdout",
     "output_type": "stream",
     "text": [
      "Resultado Congruencial Mixto con cantidad=100, xo=7, a=5, c=3, m=33\n",
      "[0.15151515151515152, 0.8484848484848485, 0.3333333333333333, 0.7575757575757576, 0.8787878787878788, 0.48484848484848486, 0.5151515151515151, 0.6666666666666666, 0.42424242424242425, 0.21212121212121213, 0.15151515151515152, 0.8484848484848485, 0.3333333333333333, 0.7575757575757576, 0.8787878787878788, 0.48484848484848486, 0.5151515151515151, 0.6666666666666666, 0.42424242424242425, 0.21212121212121213, 0.15151515151515152, 0.8484848484848485, 0.3333333333333333, 0.7575757575757576, 0.8787878787878788, 0.48484848484848486, 0.5151515151515151, 0.6666666666666666, 0.42424242424242425, 0.21212121212121213, 0.15151515151515152, 0.8484848484848485, 0.3333333333333333, 0.7575757575757576, 0.8787878787878788, 0.48484848484848486, 0.5151515151515151, 0.6666666666666666, 0.42424242424242425, 0.21212121212121213, 0.15151515151515152, 0.8484848484848485, 0.3333333333333333, 0.7575757575757576, 0.8787878787878788, 0.48484848484848486, 0.5151515151515151, 0.6666666666666666, 0.42424242424242425, 0.21212121212121213, 0.15151515151515152, 0.8484848484848485, 0.3333333333333333, 0.7575757575757576, 0.8787878787878788, 0.48484848484848486, 0.5151515151515151, 0.6666666666666666, 0.42424242424242425, 0.21212121212121213, 0.15151515151515152, 0.8484848484848485, 0.3333333333333333, 0.7575757575757576, 0.8787878787878788, 0.48484848484848486, 0.5151515151515151, 0.6666666666666666, 0.42424242424242425, 0.21212121212121213, 0.15151515151515152, 0.8484848484848485, 0.3333333333333333, 0.7575757575757576, 0.8787878787878788, 0.48484848484848486, 0.5151515151515151, 0.6666666666666666, 0.42424242424242425, 0.21212121212121213, 0.15151515151515152, 0.8484848484848485, 0.3333333333333333, 0.7575757575757576, 0.8787878787878788, 0.48484848484848486, 0.5151515151515151, 0.6666666666666666, 0.42424242424242425, 0.21212121212121213, 0.15151515151515152, 0.8484848484848485, 0.3333333333333333, 0.7575757575757576, 0.8787878787878788, 0.48484848484848486, 0.5151515151515151, 0.6666666666666666, 0.42424242424242425, 0.21212121212121213]\n"
     ]
    }
   ],
   "source": [
    "cantidad=100\n",
    "x0=7\n",
    "a=5\n",
    "c=3\n",
    "mod=33\n",
    "resultado_congruencial_mixto_last=metodo_congruencial_mixto(cantidad,x0,a,c,mod)\n",
    "print(\"Resultado Congruencial Mixto con cantidad={}, xo={}, a={}, c={}, mod={}\".format(cantidad,x0,a,c,mod))\n",
    "print(resultado_congruencial_mixto_last)"
   ]
  },
  {
   "cell_type": "markdown",
   "metadata": {
    "colab_type": "text",
    "id": "RlNYVdyGtCm5"
   },
   "source": [
    "**b)** el tamaño del ciclo (si lo tiene)"
   ]
  },
  {
   "cell_type": "code",
   "execution_count": 64,
   "metadata": {
    "colab": {
     "base_uri": "https://localhost:8080/",
     "height": 34
    },
    "colab_type": "code",
    "id": "iAdmuHAAt-qb",
    "outputId": "b8334435-278b-48af-a8cd-e0cc1b671875"
   },
   "outputs": [
    {
     "name": "stdout",
     "output_type": "stream",
     "text": [
      "El periodo es: 10\n"
     ]
    }
   ],
   "source": [
    "print(\"El periodo es: {}\".format(calcular_periodo(resultado_congruencial_mixto_last)))"
   ]
  },
  {
   "cell_type": "markdown",
   "metadata": {
    "colab_type": "text",
    "id": "3PRnEgWTt_Jg"
   },
   "source": [
    "## 7.\n",
    "Si $ x_0=123 $ y\n",
    "$$ x_n = (17x_{n-1}+3) \\mod 16 $$\n",
    "\n",
    "**a)** encuentre $u_1,...,u_{100}$"
   ]
  },
  {
   "cell_type": "code",
   "execution_count": 65,
   "metadata": {
    "colab": {
     "base_uri": "https://localhost:8080/",
     "height": 71
    },
    "colab_type": "code",
    "id": "7WiQHBIKuVrO",
    "outputId": "b5b9ec3b-0663-450b-e021-cbf0c7d4130a"
   },
   "outputs": [
    {
     "name": "stdout",
     "output_type": "stream",
     "text": [
      "Resultado Congruencial Mixto con cantidad=100, xo=123, a=17, c=3, m=16\n",
      "[0.875, 0.0625, 0.25, 0.4375, 0.625, 0.8125, 0.0, 0.1875, 0.375, 0.5625, 0.75, 0.9375, 0.125, 0.3125, 0.5, 0.6875, 0.875, 0.0625, 0.25, 0.4375, 0.625, 0.8125, 0.0, 0.1875, 0.375, 0.5625, 0.75, 0.9375, 0.125, 0.3125, 0.5, 0.6875, 0.875, 0.0625, 0.25, 0.4375, 0.625, 0.8125, 0.0, 0.1875, 0.375, 0.5625, 0.75, 0.9375, 0.125, 0.3125, 0.5, 0.6875, 0.875, 0.0625, 0.25, 0.4375, 0.625, 0.8125, 0.0, 0.1875, 0.375, 0.5625, 0.75, 0.9375, 0.125, 0.3125, 0.5, 0.6875, 0.875, 0.0625, 0.25, 0.4375, 0.625, 0.8125, 0.0, 0.1875, 0.375, 0.5625, 0.75, 0.9375, 0.125, 0.3125, 0.5, 0.6875, 0.875, 0.0625, 0.25, 0.4375, 0.625, 0.8125, 0.0, 0.1875, 0.375, 0.5625, 0.75, 0.9375, 0.125, 0.3125, 0.5, 0.6875, 0.875, 0.0625, 0.25, 0.4375]\n"
     ]
    }
   ],
   "source": [
    "cantidad=100\n",
    "x0=123\n",
    "a=17\n",
    "c=3\n",
    "mod=16\n",
    "resultado_congruencial_mixto_last=metodo_congruencial_mixto(cantidad,x0,a,c,mod)\n",
    "print(\"Resultado Congruencial Mixto con cantidad={}, xo={}, a={}, c={}, mod={}\".format(cantidad,x0,a,c,mod))\n",
    "print(resultado_congruencial_mixto_last)"
   ]
  },
  {
   "cell_type": "markdown",
   "metadata": {
    "colab_type": "text",
    "id": "aK_uyM2nuWGe"
   },
   "source": [
    "**b)** el tamaño del ciclo (si lo tiene)"
   ]
  },
  {
   "cell_type": "code",
   "execution_count": 66,
   "metadata": {
    "colab": {
     "base_uri": "https://localhost:8080/",
     "height": 34
    },
    "colab_type": "code",
    "id": "aq2NrdxduW3O",
    "outputId": "71da0609-2f33-4fde-b315-84f7881ce1a4"
   },
   "outputs": [
    {
     "name": "stdout",
     "output_type": "stream",
     "text": [
      "El periodo es: 16\n"
     ]
    }
   ],
   "source": [
    "print(\"El periodo es: {}\".format(calcular_periodo(resultado_congruencial_mixto_last)))"
   ]
  },
  {
   "cell_type": "markdown",
   "metadata": {
    "colab_type": "text",
    "id": "1KkIOtVzHL_w"
   },
   "source": [
    "## 8.\n",
    "Dados los siguientes valores de la distribución de probabilidad discreta de la variable aleatoria $X$ de un dado de 12 lados: $X = {1,2,3,4,5,6,7,8,9,10,11,12}$, $p(X) = {0.06,0.05,0.05,0.04,0.02,0.02,0.05,0.07,0.2,0.25,0.1,0.09}$, ¿Qué valores retornaría el generador de variables aleatorias por el método de la inversión si los números aleatorios generados son: $U = {0.6996, 0.0318, 0.6344, 0.1708, 0.6865, 0.1573, 0.9454, 0.8211, 0.9102, 0.2579}$?"
   ]
  },
  {
   "cell_type": "code",
   "execution_count": 112,
   "metadata": {
    "colab": {
     "base_uri": "https://localhost:8080/",
     "height": 255
    },
    "colab_type": "code",
    "id": "bhEDWJ38rXGc",
    "outputId": "602805fe-ac41-4a6f-b8d9-62f5462dffc7"
   },
   "outputs": [
    {
     "name": "stdout",
     "output_type": "stream",
     "text": [
      "Px= [0.06, 0.11, 0.16, 0.2, 0.22, 0.24, 0.29, 0.36, 0.56, 0.81, 0.91, 1.0]\n",
      "\n",
      "     pseudoaleatorio       X  \n",
      "------------------------- ----\n",
      "         0.6996           10  \n",
      "         0.0318            1  \n",
      "         0.6344           10  \n",
      "         0.1708            4  \n",
      "         0.6865           10  \n",
      "         0.1573            3  \n",
      "         0.9454           12  \n",
      "         0.8211           11  \n",
      "         0.9102           12  \n",
      "         0.2579            7  \n"
     ]
    }
   ],
   "source": [
    "def transformada_inversa(aleatorios, fx):\n",
    "    px=[]\n",
    "    px_aux=0\n",
    "    x=[]\n",
    "    for i in fx:\n",
    "        px_aux += i \n",
    "        px.append(px_aux)\n",
    "    print(f'Px= {px}')\n",
    "    for u in aleatorios:\n",
    "        for j, k in enumerate(px, 1):\n",
    "            if u<k:\n",
    "                x.append([u, j])\n",
    "                break\n",
    "    print(f'\\n{\"pseudoaleatorio\":^25}{\"X\":^5}')\n",
    "    print(f'{\"-\"*25} {\"-\"*4}')\n",
    "    for i in range(len(x)):\n",
    "        print(f'{x[i][0]:^25}{x[i][1]:^5}') \n",
    "aleatorios=[0.6996,0.0318,0.6344,0.1708,0.6865,0.1573,0.9454,0.8211,0.9102,0.2579]\n",
    "fx=[0.06,0.05,0.05,0.04,0.02,0.02,0.05,0.07,0.2,0.25,0.1,0.09]\n",
    "transformada_inversa(aleatorios, fx)"
   ]
  },
  {
   "cell_type": "markdown",
   "metadata": {
    "colab_type": "text",
    "id": "Y4Ct4DYjrwZh"
   },
   "source": [
    "## 9.\n",
    "Implememente la técnica de aceptación y rechazo para la generación de variables aleatorias.\n",
    "\n",
    "**a)** Use la técnica de aceptación y rechazo implementada para la generación de valores aleatorios de la distribución de probabilidad discreta de la suma de la cara de dos dados.<br>\n",
    "**b)** Compare con el método de la transformada inversa generando 50000 valores aleatorios con la misma distribución de probabilidad discreta midiendo el tiempo que toma por cada método generar la misma cantidad de valores aleatorios."
   ]
  },
  {
   "cell_type": "code",
   "execution_count": 85,
   "metadata": {
    "colab": {},
    "colab_type": "code",
    "id": "IUrE7F7T28Ra"
   },
   "outputs": [],
   "source": []
  },
  {
   "cell_type": "markdown",
   "metadata": {
    "colab_type": "text",
    "id": "s_d8nqQP6Y7y"
   },
   "source": [
    "## 10.\n",
    "Implemente el ejemplo de simulación Ad Hoc de clientes atendidos por un cajero de un banco del Taller 0 generando las variables aleatorias discretas tanto del número de minutos entre las llegadas de un cliente y otro al banco ($X$), así como del numero de minutos que le toma al cajero atender un cliente ($Y$). <br>\n",
    "$X$ es una distribución de Poisson con $\\lambda = 5$<br>\n",
    "$Y$ es una distribución Binomial con $n=20$ y $p=0.4$.<br>\n",
    "Calcular las respectivas medidas de desempeño."
   ]
  },
  {
   "cell_type": "code",
   "execution_count": 85,
   "metadata": {
    "colab": {},
    "colab_type": "code",
    "id": "zUbhD7zu-kV9"
   },
   "outputs": [],
   "source": []
  }
 ],
 "metadata": {
  "colab": {
   "collapsed_sections": [],
   "name": "Copia de Taller 1.ipynb",
   "provenance": []
  },
  "kernelspec": {
   "display_name": "Python 3",
   "language": "python",
   "name": "python3"
  },
  "language_info": {
   "codemirror_mode": {
    "name": "ipython",
    "version": 3
   },
   "file_extension": ".py",
   "mimetype": "text/x-python",
   "name": "python",
   "nbconvert_exporter": "python",
   "pygments_lexer": "ipython3",
   "version": "3.7.4"
  }
 },
 "nbformat": 4,
 "nbformat_minor": 1
}
